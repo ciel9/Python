{
 "cells": [
  {
   "cell_type": "code",
   "execution_count": 2,
   "metadata": {},
   "outputs": [
    {
     "name": "stdout",
     "output_type": "stream",
     "text": [
      "I'm not hungry\n"
     ]
    }
   ],
   "source": [
    "hungry = False\n",
    "\n",
    "if hungry :\n",
    "    print(\"Feed Me !\")\n",
    "else :\n",
    "    print(\"I'm not hungry\")"
   ]
  },
  {
   "cell_type": "code",
   "execution_count": 6,
   "metadata": {},
   "outputs": [
    {
     "name": "stdout",
     "output_type": "stream",
     "text": [
      "Have fun !\n"
     ]
    }
   ],
   "source": [
    "loc = \"Beach\"\n",
    "\n",
    "if loc == \"Hospital\":\n",
    "    print(\"GWS\")\n",
    "elif loc == \"Beach\":\n",
    "    print(\"Have fun !\")\n",
    "elif loc == \"Mall\":\n",
    "    print(\"Happy Shopping !\")\n",
    "else :\n",
    "    print('Be Careful !')"
   ]
  },
  {
   "cell_type": "markdown",
   "metadata": {},
   "source": [
    "# Contoh"
   ]
  },
  {
   "cell_type": "markdown",
   "metadata": {},
   "source": [
    "Jika tidur print zzz, jika jalan print tuktuk, jika makan print Eating, jika dilain itu print what are you doing ?"
   ]
  },
  {
   "cell_type": "code",
   "execution_count": 7,
   "metadata": {},
   "outputs": [
    {
     "name": "stdout",
     "output_type": "stream",
     "text": [
      "What are you doing ?\n"
     ]
    }
   ],
   "source": [
    "a = \"Watching\"\n",
    "\n",
    "if a == \"Sleep\":\n",
    "    print(\"zzzz\")\n",
    "elif a == \"Walk\":\n",
    "    print(\"TukTuk\")\n",
    "elif a == \"Eat\":\n",
    "    print(\"Eating\")\n",
    "else:\n",
    "    print(\"What are you doing ?\")"
   ]
  }
 ],
 "metadata": {
  "kernelspec": {
   "display_name": "Python 3",
   "language": "python",
   "name": "python3"
  },
  "language_info": {
   "codemirror_mode": {
    "name": "ipython",
    "version": 3
   },
   "file_extension": ".py",
   "mimetype": "text/x-python",
   "name": "python",
   "nbconvert_exporter": "python",
   "pygments_lexer": "ipython3",
   "version": "3.8.3"
  }
 },
 "nbformat": 4,
 "nbformat_minor": 4
}
