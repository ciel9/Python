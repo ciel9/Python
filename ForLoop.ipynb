{
  "nbformat": 4,
  "nbformat_minor": 0,
  "metadata": {
    "colab": {
      "name": "ForLoop.ipynb",
      "provenance": [],
      "collapsed_sections": [],
      "authorship_tag": "ABX9TyMI1I5JluPaoOKqYupAcQkj",
      "include_colab_link": true
    },
    "kernelspec": {
      "name": "python3",
      "display_name": "Python 3"
    },
    "language_info": {
      "name": "python"
    }
  },
  "cells": [
    {
      "cell_type": "markdown",
      "metadata": {
        "id": "view-in-github",
        "colab_type": "text"
      },
      "source": [
        "<a href=\"https://colab.research.google.com/github/ciel9/Python/blob/main/ForLoop.ipynb\" target=\"_parent\"><img src=\"https://colab.research.google.com/assets/colab-badge.svg\" alt=\"Open In Colab\"/></a>"
      ]
    },
    {
      "cell_type": "code",
      "metadata": {
        "colab": {
          "base_uri": "https://localhost:8080/"
        },
        "id": "v45HxflCRIUQ",
        "outputId": "87a1011e-fb5e-40e9-94ce-d328938e9d9c"
      },
      "source": [
        "mylist = [1,2,3,4,5,6,7,8,9,10,20,30,40,50,100]\n",
        "for number in mylist:\n",
        "  print(number)"
      ],
      "execution_count": 3,
      "outputs": [
        {
          "output_type": "stream",
          "text": [
            "1\n",
            "2\n",
            "3\n",
            "4\n",
            "5\n",
            "6\n",
            "7\n",
            "8\n",
            "9\n",
            "10\n",
            "20\n",
            "30\n",
            "40\n",
            "50\n",
            "100\n"
          ],
          "name": "stdout"
        }
      ]
    },
    {
      "cell_type": "code",
      "metadata": {
        "colab": {
          "base_uri": "https://localhost:8080/"
        },
        "id": "F1HQ9xeGRXWQ",
        "outputId": "10210b00-3aa0-4343-d462-21869f87cf79"
      },
      "source": [
        "mylist = [1,2,3,4,5,6,7,8,9,10,20,30,40,50,100]\n",
        "for num in mylist :\n",
        "  if num % 2 == 0:\n",
        "    print(num)\n",
        "  else:\n",
        "    print(f'Odd Number : {num}')"
      ],
      "execution_count": 15,
      "outputs": [
        {
          "output_type": "stream",
          "text": [
            "Odd Number : 1\n",
            "2\n",
            "Odd Number : 3\n",
            "4\n",
            "Odd Number : 5\n",
            "6\n",
            "Odd Number : 7\n",
            "8\n",
            "Odd Number : 9\n",
            "10\n",
            "20\n",
            "30\n",
            "40\n",
            "50\n",
            "100\n"
          ],
          "name": "stdout"
        }
      ]
    },
    {
      "cell_type": "code",
      "metadata": {
        "colab": {
          "base_uri": "https://localhost:8080/"
        },
        "id": "cB8kY_sNSQez",
        "outputId": "cc759748-ee56-40d2-9fdc-a08d3cd0280c"
      },
      "source": [
        "sum = 0\n",
        "for num in mylist:\n",
        "  sum = sum + num\n",
        "  print(sum)"
      ],
      "execution_count": 19,
      "outputs": [
        {
          "output_type": "stream",
          "text": [
            "1\n",
            "3\n",
            "6\n",
            "10\n",
            "15\n",
            "21\n",
            "28\n",
            "36\n",
            "45\n",
            "55\n",
            "75\n",
            "105\n",
            "145\n",
            "195\n",
            "295\n"
          ],
          "name": "stdout"
        }
      ]
    },
    {
      "cell_type": "code",
      "metadata": {
        "colab": {
          "base_uri": "https://localhost:8080/"
        },
        "id": "a58UrHK2T7PD",
        "outputId": "137acf8d-5d74-42ac-ae4a-03c2e50b2202"
      },
      "source": [
        "a = 'Taehyung'\n",
        "for word in a:\n",
        "  print(word)"
      ],
      "execution_count": 21,
      "outputs": [
        {
          "output_type": "stream",
          "text": [
            "T\n",
            "a\n",
            "e\n",
            "h\n",
            "y\n",
            "u\n",
            "n\n",
            "g\n"
          ],
          "name": "stdout"
        }
      ]
    },
    {
      "cell_type": "code",
      "metadata": {
        "colab": {
          "base_uri": "https://localhost:8080/"
        },
        "id": "Zsos4hG1U9xc",
        "outputId": "dacb0af7-bd3f-4c65-fa80-1b730c3c8d56"
      },
      "source": [
        "tuple = (1,2,3)\n",
        "for mytuple in tuple:\n",
        "  print(mytuple)"
      ],
      "execution_count": 22,
      "outputs": [
        {
          "output_type": "stream",
          "text": [
            "1\n",
            "2\n",
            "3\n"
          ],
          "name": "stdout"
        }
      ]
    },
    {
      "cell_type": "code",
      "metadata": {
        "colab": {
          "base_uri": "https://localhost:8080/"
        },
        "id": "pTh0mIOFVQsj",
        "outputId": "93cb3c1b-dede-45e9-951e-b1012dabdf94"
      },
      "source": [
        "z = [(1,2),(5,6),(10,20)]\n",
        "for (a,b) in z:\n",
        "  print(a)\n",
        "  print(b)"
      ],
      "execution_count": 23,
      "outputs": [
        {
          "output_type": "stream",
          "text": [
            "1\n",
            "2\n",
            "5\n",
            "6\n",
            "10\n",
            "20\n"
          ],
          "name": "stdout"
        }
      ]
    },
    {
      "cell_type": "code",
      "metadata": {
        "colab": {
          "base_uri": "https://localhost:8080/"
        },
        "id": "K0J-SyIhV6Ty",
        "outputId": "8b945532-8d36-43b7-a426-f8d1b70d6505"
      },
      "source": [
        "y = [(1,2,3),(3,10,2),(13,15,17)]\n",
        "for a,b,c in y:\n",
        "  print(a)"
      ],
      "execution_count": 29,
      "outputs": [
        {
          "output_type": "stream",
          "text": [
            "1\n",
            "3\n",
            "13\n"
          ],
          "name": "stdout"
        }
      ]
    },
    {
      "cell_type": "code",
      "metadata": {
        "colab": {
          "base_uri": "https://localhost:8080/"
        },
        "id": "DpPQMN4JWh26",
        "outputId": "56bda266-ca41-4747-ae04-5722ac4098bd"
      },
      "source": [
        "v = {'k1': \"hi\", 'k2':\"haloha\", 'k3':\"annyeong\"}\n",
        "for value in v.values():\n",
        "  print(value)"
      ],
      "execution_count": 34,
      "outputs": [
        {
          "output_type": "stream",
          "text": [
            "hi\n",
            "haloha\n",
            "annyeong\n"
          ],
          "name": "stdout"
        }
      ]
    },
    {
      "cell_type": "code",
      "metadata": {
        "colab": {
          "base_uri": "https://localhost:8080/"
        },
        "id": "xu1ZZzKaXbhk",
        "outputId": "a7055573-53e3-469a-a903-af27f52f16c1"
      },
      "source": [
        "#jika genap akan mencetak angka 'num' adalah genap, jika ganjil akan mencetak angka 'num' adalah ganjil.\n",
        "\n",
        "list = [1,2,3,4,5]\n",
        "for num in list :\n",
        "  if num % 2 ==0:\n",
        "    print (f'Angka {num} adalah genap')\n",
        "  else :\n",
        "    print(f'Angka {num} adalah ganjil')\n"
      ],
      "execution_count": 35,
      "outputs": [
        {
          "output_type": "stream",
          "text": [
            "Angka 1 adalah ganjil\n",
            "Angka 2 adalah genap\n",
            "Angka 3 adalah ganjil\n",
            "Angka 4 adalah genap\n",
            "Angka 5 adalah ganjil\n"
          ],
          "name": "stdout"
        }
      ]
    },
    {
      "cell_type": "markdown",
      "metadata": {
        "id": "akdLVTnHZABY"
      },
      "source": [
        "Menampilkan menu makanan yang berisi ayam goreng, es teh manis, nasi putih, air mineral dan ikan bakar. Anggap user ingin membeli air mineral dan ikan bakar. Dimana angka urutan yang dipilih user merupakan bilangan kelipatan 2, Tuliskan di output jika angka kelipatan 2 terpilih user. "
      ]
    },
    {
      "cell_type": "code",
      "metadata": {
        "colab": {
          "base_uri": "https://localhost:8080/"
        },
        "id": "J7vuGkiHZmX4",
        "outputId": "659fa273-aac2-4cd3-8438-5d34b5aa6090"
      },
      "source": [
        "print('======== MENU ===========')\n",
        "print( '1. Ayam Goreng')\n",
        "print( '2. Ikan Bakar')\n",
        "print('3. Udang Goreng')\n",
        "print('4. Nasi Putih')\n",
        "print('5. Es Teh Manis')\n",
        "print('6. Air Mineral\\n')\n",
        "print('Hasil : \\n')\n",
        "list = [1,2,3,4,5,6,7]\n",
        "for num in list :\n",
        "  if num % 2 ==0:\n",
        "    print (f'User pilih menu urutan: {num}')\n",
        "  else :\n",
        "    print(f'User hanya melihat urutan menu :  {num}')"
      ],
      "execution_count": 58,
      "outputs": [
        {
          "output_type": "stream",
          "text": [
            "======== MENU ===========\n",
            "1. Ayam Goreng\n",
            "2. Ikan Bakar\n",
            "3. Udang Goreng\n",
            "4. Nasi Putih\n",
            "5. Es Teh Manis\n",
            "6. Air Mineral\n",
            "\n",
            "Hasil : \n",
            "\n",
            "User hanya melihat urutan menu :  1\n",
            "User pilih menu urutan: 2\n",
            "User hanya melihat urutan menu :  3\n",
            "User pilih menu urutan: 4\n",
            "User hanya melihat urutan menu :  5\n",
            "User pilih menu urutan: 6\n",
            "User hanya melihat urutan menu :  7\n"
          ],
          "name": "stdout"
        }
      ]
    }
  ]
}