{
  "nbformat": 4,
  "nbformat_minor": 0,
  "metadata": {
    "colab": {
      "name": "WhileLoops.ipynb",
      "provenance": [],
      "collapsed_sections": [],
      "authorship_tag": "ABX9TyOBFDc0huoWUM5DPwA4WUZ1",
      "include_colab_link": true
    },
    "kernelspec": {
      "name": "python3",
      "display_name": "Python 3"
    },
    "language_info": {
      "name": "python"
    }
  },
  "cells": [
    {
      "cell_type": "markdown",
      "metadata": {
        "id": "view-in-github",
        "colab_type": "text"
      },
      "source": [
        "<a href=\"https://colab.research.google.com/github/ciel9/Python/blob/main/WhileLoops.ipynb\" target=\"_parent\"><img src=\"https://colab.research.google.com/assets/colab-badge.svg\" alt=\"Open In Colab\"/></a>"
      ]
    },
    {
      "cell_type": "code",
      "metadata": {
        "colab": {
          "base_uri": "https://localhost:8080/"
        },
        "id": "A2V9vI7hef24",
        "outputId": "fef83143-3a3b-442c-8b06-9d44a85065d1"
      },
      "source": [
        "x = 0\n",
        "while x < 10:\n",
        "  print(f'nilai x = {x}')\n",
        "  x = x + 1\n",
        "else:\n",
        "  print('x not less than 10')"
      ],
      "execution_count": null,
      "outputs": [
        {
          "output_type": "stream",
          "text": [
            "nilai x = 0\n",
            "nilai x = 1\n",
            "nilai x = 2\n",
            "nilai x = 3\n",
            "nilai x = 4\n",
            "nilai x = 5\n",
            "nilai x = 6\n",
            "nilai x = 7\n",
            "nilai x = 8\n",
            "nilai x = 9\n",
            "x not less than 10\n"
          ],
          "name": "stdout"
        }
      ]
    },
    {
      "cell_type": "markdown",
      "metadata": {
        "id": "eMVxhRaEgE7A"
      },
      "source": [
        "Jika terjadi infinity loop bisa ke tab Runtime dan pilih Interrupt."
      ]
    },
    {
      "cell_type": "code",
      "metadata": {
        "colab": {
          "base_uri": "https://localhost:8080/"
        },
        "id": "hZcPddfjgPqq",
        "outputId": "bc0e9391-16a8-4297-d551-45bcfb9b1b2a"
      },
      "source": [
        "# pass : does nothin at all.\n",
        "\n",
        "a =[1,2,3,4,5]\n",
        "for item in a:\n",
        "  pass\n",
        "print('finish')"
      ],
      "execution_count": null,
      "outputs": [
        {
          "output_type": "stream",
          "text": [
            "finish\n"
          ],
          "name": "stdout"
        }
      ]
    },
    {
      "cell_type": "code",
      "metadata": {
        "colab": {
          "base_uri": "https://localhost:8080/"
        },
        "id": "r9YJd3hvhTjL",
        "outputId": "7dc851a0-d460-49f4-894c-5bb2bf1959de"
      },
      "source": [
        "#continue : pergi ke bagian atas dari loop inclosing terdekat.\n",
        "# tidak menampilkan string 'e'\n",
        "\n",
        "string = 'Aku sedang menari'\n",
        "for letter in string:\n",
        "  if letter == 'e':\n",
        "    continue\n",
        "  print(letter)"
      ],
      "execution_count": null,
      "outputs": [
        {
          "output_type": "stream",
          "text": [
            "A\n",
            "k\n",
            "u\n",
            " \n",
            "s\n",
            "d\n",
            "a\n",
            "n\n",
            "g\n",
            " \n",
            "m\n",
            "n\n",
            "a\n",
            "r\n",
            "i\n"
          ],
          "name": "stdout"
        }
      ]
    },
    {
      "cell_type": "code",
      "metadata": {
        "colab": {
          "base_uri": "https://localhost:8080/"
        },
        "id": "HC1ugJtNieDM",
        "outputId": "102dce37-c7d4-4874-be78-cd2c8c0cd36f"
      },
      "source": [
        "#break : break dari loop penutupan terdekat saat ini.\n",
        "# mengehentikan looping jika sudah sampai 4\n",
        "\n",
        "z = 0\n",
        "while z < 20:\n",
        "  if z == 4:\n",
        "    break\n",
        "  print(z)\n",
        "  z += 1"
      ],
      "execution_count": null,
      "outputs": [
        {
          "output_type": "stream",
          "text": [
            "0\n",
            "1\n",
            "2\n",
            "3\n"
          ],
          "name": "stdout"
        }
      ]
    },
    {
      "cell_type": "markdown",
      "metadata": {
        "id": "YikLEshFkick"
      },
      "source": [
        "Tampilkan semua bilangan dari 0 -100 namun dia akan berhenti jika sampai di angka 50."
      ]
    },
    {
      "cell_type": "code",
      "metadata": {
        "colab": {
          "base_uri": "https://localhost:8080/"
        },
        "id": "NLErEQf1kw_O",
        "outputId": "3c429876-b858-4355-9227-d3a88ccf17cc"
      },
      "source": [
        "num = 0\n",
        "while  num < 100:\n",
        "  if num == 50:\n",
        "    break\n",
        "  print(num)\n",
        "  num += 1"
      ],
      "execution_count": null,
      "outputs": [
        {
          "output_type": "stream",
          "text": [
            "0\n",
            "1\n",
            "2\n",
            "3\n",
            "4\n",
            "5\n",
            "6\n",
            "7\n",
            "8\n",
            "9\n",
            "10\n",
            "11\n",
            "12\n",
            "13\n",
            "14\n",
            "15\n",
            "16\n",
            "17\n",
            "18\n",
            "19\n",
            "20\n",
            "21\n",
            "22\n",
            "23\n",
            "24\n",
            "25\n",
            "26\n",
            "27\n",
            "28\n",
            "29\n",
            "30\n",
            "31\n",
            "32\n",
            "33\n",
            "34\n",
            "35\n",
            "36\n",
            "37\n",
            "38\n",
            "39\n",
            "40\n",
            "41\n",
            "42\n",
            "43\n",
            "44\n",
            "45\n",
            "46\n",
            "47\n",
            "48\n",
            "49\n"
          ],
          "name": "stdout"
        }
      ]
    },
    {
      "cell_type": "markdown",
      "metadata": {
        "id": "jozJtVQgmaY0"
      },
      "source": [
        "Menampilkan kalimat 'kemarin saya pergi ke pasar dan membeli balon serta nasi liwet' dengan menghilangkan semua huruf a."
      ]
    },
    {
      "cell_type": "code",
      "metadata": {
        "colab": {
          "base_uri": "https://localhost:8080/"
        },
        "id": "MhqztlnVlGxR",
        "outputId": "d9a16d98-536e-46e2-cc2e-19bce716603c"
      },
      "source": [
        "song = 'Kemarin saya pergi ke pasar dan membeli balon serta nasi liwet'\n",
        "for word in song:\n",
        "  if word in 'a':\n",
        "    continue\n",
        "  print(word) "
      ],
      "execution_count": null,
      "outputs": [
        {
          "output_type": "stream",
          "text": [
            "K\n",
            "e\n",
            "m\n",
            "r\n",
            "i\n",
            "n\n",
            " \n",
            "s\n",
            "y\n",
            " \n",
            "p\n",
            "e\n",
            "r\n",
            "g\n",
            "i\n",
            " \n",
            "k\n",
            "e\n",
            " \n",
            "p\n",
            "s\n",
            "r\n",
            " \n",
            "d\n",
            "n\n",
            " \n",
            "m\n",
            "e\n",
            "m\n",
            "b\n",
            "e\n",
            "l\n",
            "i\n",
            " \n",
            "b\n",
            "l\n",
            "o\n",
            "n\n",
            " \n",
            "s\n",
            "e\n",
            "r\n",
            "t\n",
            " \n",
            "n\n",
            "s\n",
            "i\n",
            " \n",
            "l\n",
            "i\n",
            "w\n",
            "e\n",
            "t\n"
          ],
          "name": "stdout"
        }
      ]
    }
  ]
}